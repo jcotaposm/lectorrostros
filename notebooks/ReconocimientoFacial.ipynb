{
 "cells": [
  {
   "cell_type": "code",
   "execution_count": 1,
   "metadata": {},
   "outputs": [],
   "source": [
    "import cv2\n",
    "import os\n",
    "import smtplib"
   ]
  },
  {
   "cell_type": "code",
   "execution_count": 2,
   "metadata": {},
   "outputs": [
    {
     "name": "stdout",
     "output_type": "stream",
     "text": [
      "imagePaths: ['.DS_Store', 'Anna Marti', 'Amparo Babiloni']\n"
     ]
    }
   ],
   "source": [
    "dataPath = '/Users/jorge/Documents/Magister Data Science/Lectura de rostros/imagenes/data'\n",
    "imagePaths = os.listdir(dataPath)\n",
    "print('imagePaths:', imagePaths)"
   ]
  },
  {
   "cell_type": "code",
   "execution_count": null,
   "metadata": {},
   "outputs": [],
   "source": [
    "face_recognizer = cv2.face.EigenFaceRecognizer_create()\n",
    "\n",
    "#Leemos el modelo entrenado\n",
    "face_recognizer.read('modeloEigenFace.xml')\n",
    "\n",
    "cap = cv2.VideoCapture('/Users/jorge/Documents/Magister Data Science/Lectura de rostros/rostros.mp4')\n",
    "\n",
    "faceClassif = cv2.CascadeClassifier(cv2.data.haarcascades+'haarcascade_frontalface_default.xml')#haarcascade_frontalface_default.xml\n",
    "\n",
    "while True:\n",
    "    ret,frame = cap.read()\n",
    "    if ret == False:break\n",
    "    gray = cv2.cvtColor(frame, cv2.COLOR_BGR2GRAY)\n",
    "    auxFrame = gray.copy()\n",
    "    \n",
    "    faces = faceClassif.detectMultiScale(gray,1.2,5)\n",
    "    \n",
    "    for (x,y,w,h) in faces:\n",
    "        rostro = auxFrame[y:y+h,x:x+w]\n",
    "        rostro = cv2.resize(rostro,(150,150),interpolation=cv2.INTER_CUBIC)\n",
    "        result = face_recognizer.predict(rostro)\n",
    "        \n",
    "        cv2.putText(frame,'{}'.format(result),(x,y-5),1,1.3,(255,255,0),1,cv2.LINE_AA)\n",
    "        \n",
    "        #Elegir caras\n",
    "        if result[1]<5700:\n",
    "            cv2.putText(frame,'{}'.format(imagePaths[result[0]]),(x,y-25),2,1.1,(0,255,0),1,cv2.LINE_AA)\n",
    "            cv2.rectangle(frame, (x,y),(x+w,y+h),(0,255,0),2)\n",
    "        else:\n",
    "            cv2.putText(frame,'Desconocido',(x,y-20),2,0.8,(0,0,255),1,cv2.LINE_AA)\n",
    "            cv2.rectangle(frame, (x,y),(x+w,y+h),(0,0,255),2)\n",
    "            #mensaje = 'Se ha detectado personal sin identificar'\n",
    "            #server = smtplib.SMTP('smtp.gmail.com', 587)\n",
    "            #server.starttls()\n",
    "            #server.login = smtplib.SMTP('aviso.reconocimiento@gmail.com','17892002')\n",
    "            #server.sendmail('aviso.reconocimiento@gmail.com','jcotapos@gmail.com', mensaje)\n",
    "            #server.quit()\n",
    "        \n",
    "    cv2.imshow('frame',frame)\n",
    "    k = cv2.waitKey(1)\n",
    "    if k== 27:\n",
    "        break\n",
    "        \n",
    "cap.release()\n",
    "cv2.destroyAllWindows()"
   ]
  }
 ],
 "metadata": {
  "kernelspec": {
   "display_name": "Python 3",
   "language": "python",
   "name": "python3"
  },
  "language_info": {
   "codemirror_mode": {
    "name": "ipython",
    "version": 3
   },
   "file_extension": ".py",
   "mimetype": "text/x-python",
   "name": "python",
   "nbconvert_exporter": "python",
   "pygments_lexer": "ipython3",
   "version": "3.7.6"
  }
 },
 "nbformat": 4,
 "nbformat_minor": 4
}
